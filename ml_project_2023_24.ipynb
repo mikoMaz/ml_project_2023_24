{
 "cells": [
  {
   "cell_type": "markdown",
   "id": "435c89c6-0c98-4f70-89db-81d0bd0c3df7",
   "metadata": {},
   "source": [
    "# Machine learning project - Mikołaj Mazur"
   ]
  },
  {
   "cell_type": "code",
   "execution_count": 1,
   "id": "03f67835-c372-4e4c-963a-5dca9fafe130",
   "metadata": {},
   "outputs": [],
   "source": [
    "import pandas as pd"
   ]
  },
  {
   "cell_type": "markdown",
   "id": "80406f85-cb6b-4618-8c57-04485e0eeb69",
   "metadata": {},
   "source": [
    "### Dataset sources"
   ]
  },
  {
   "cell_type": "raw",
   "id": "18ad8ed0-4a44-4ab4-bfe1-e2b2a3d9d5ad",
   "metadata": {},
   "source": [
    "Chicago Bike Sharing Data - 2021 - https://www.kaggle.com/datasets/manjitbaishya001/chicago-bike-sharing-data-2021\n",
    "Weather history at CHICAGO MIDWAY AIRPORT 3 SW, IL US station - https://www.ncei.noaa.gov/access/past-weather/chicago"
   ]
  },
  {
   "cell_type": "markdown",
   "id": "84ca9a5f-9a5f-4c0d-b413-b74ae179dfd7",
   "metadata": {},
   "source": [
    "## Data Exploration"
   ]
  },
  {
   "cell_type": "code",
   "execution_count": 2,
   "id": "29059207-eab4-4f6b-9858-d545d74b6e81",
   "metadata": {},
   "outputs": [
    {
     "name": "stdout",
     "output_type": "stream",
     "text": [
      "   Unnamed: 0           ride_id  rideable_type           started_at  \\\n",
      "0           0  E19E6F1B8D4C42ED  electric_bike  2021-01-23 16:14:19   \n",
      "1           1  DC88F20C2C55F27F  electric_bike  2021-01-27 18:43:08   \n",
      "2           2  EC45C94683FE3F27  electric_bike  2021-01-21 22:35:54   \n",
      "3           3  4FA453A75AE377DB  electric_bike  2021-01-07 13:31:13   \n",
      "4           4  BE5E8EB4E7263A0B  electric_bike  2021-01-23 02:24:02   \n",
      "\n",
      "              ended_at          start_station_name start_station_id  \\\n",
      "0  2021-01-23 16:24:44  California Ave & Cortez St            17660   \n",
      "1  2021-01-27 18:47:12  California Ave & Cortez St            17660   \n",
      "2  2021-01-21 22:37:14  California Ave & Cortez St            17660   \n",
      "3  2021-01-07 13:42:55  California Ave & Cortez St            17660   \n",
      "4  2021-01-23 02:24:45  California Ave & Cortez St            17660   \n",
      "\n",
      "  end_station_name end_station_id  start_lat  start_lng  end_lat  end_lng  \\\n",
      "0              NaN            NaN  41.900341 -87.696743    41.89   -87.72   \n",
      "1              NaN            NaN  41.900333 -87.696707    41.90   -87.69   \n",
      "2              NaN            NaN  41.900313 -87.696643    41.90   -87.70   \n",
      "3              NaN            NaN  41.900399 -87.696662    41.92   -87.69   \n",
      "4              NaN            NaN  41.900326 -87.696697    41.90   -87.70   \n",
      "\n",
      "  member_casual  \n",
      "0        member  \n",
      "1        member  \n",
      "2        member  \n",
      "3        member  \n",
      "4        casual  \n",
      "<class 'pandas.core.frame.DataFrame'>\n",
      "RangeIndex: 5595063 entries, 0 to 5595062\n",
      "Data columns (total 14 columns):\n",
      " #   Column              Dtype  \n",
      "---  ------              -----  \n",
      " 0   Unnamed: 0          int64  \n",
      " 1   ride_id             object \n",
      " 2   rideable_type       object \n",
      " 3   started_at          object \n",
      " 4   ended_at            object \n",
      " 5   start_station_name  object \n",
      " 6   start_station_id    object \n",
      " 7   end_station_name    object \n",
      " 8   end_station_id      object \n",
      " 9   start_lat           float64\n",
      " 10  start_lng           float64\n",
      " 11  end_lat             float64\n",
      " 12  end_lng             float64\n",
      " 13  member_casual       object \n",
      "dtypes: float64(4), int64(1), object(9)\n",
      "memory usage: 597.6+ MB\n",
      "None\n"
     ]
    }
   ],
   "source": [
    "# Chicago Bike Sharing Data\n",
    "\n",
    "bike_data = pd.read_csv('chicago_bike_sharing_2021.csv')\n",
    "print(bike_data.head())\n",
    "print(bike_data.info())"
   ]
  },
  {
   "cell_type": "code",
   "execution_count": 3,
   "id": "2482cfa1-b127-42bb-9fa6-fd3069b74b0c",
   "metadata": {},
   "outputs": [
    {
     "name": "stdout",
     "output_type": "stream",
     "text": [
      "                                                                                                                     CHICAGO MIDWAY AIRPORT 3 SW, IL US (USC00111577)\n",
      "Date       TAVG (Degrees Fahrenheit) TMAX (Degrees Fahrenheit) TMIN (Degrees Fahrenheit) PRCP (Inches) SNOW (Inches)                                    SNWD (Inches)\n",
      "1928-02-29 NaN                       39                        27                        0.00          0.0                                                        0.0\n",
      "1928-03-01 NaN                       36                        20                        0.00          0.0                                                        0.0\n",
      "1928-03-02 NaN                       42                        25                        0.00          0.0                                                        0.0\n",
      "1928-03-03 NaN                       37                        15                        0.00          0.0                                                        0.0\n",
      "<class 'pandas.core.frame.DataFrame'>\n",
      "MultiIndex: 35032 entries, ('Date', 'TAVG (Degrees Fahrenheit)', 'TMAX (Degrees Fahrenheit)', 'TMIN (Degrees Fahrenheit)', 'PRCP (Inches)', 'SNOW (Inches)') to ('2024-01-26', nan, '42', '39', nan, '0.0')\n",
      "Data columns (total 1 columns):\n",
      " #   Column                                            Non-Null Count  Dtype \n",
      "---  ------                                            --------------  ----- \n",
      " 0   CHICAGO MIDWAY AIRPORT 3 SW, IL US (USC00111577)  33492 non-null  object\n",
      "dtypes: object(1)\n",
      "memory usage: 1.9+ MB\n",
      "None\n"
     ]
    }
   ],
   "source": [
    "# Weather data\n",
    "\n",
    "weather_data = pd.read_csv('weather_data.csv')\n",
    "print(weather_data.head())\n",
    "print(weather_data.info())"
   ]
  },
  {
   "cell_type": "code",
   "execution_count": null,
   "id": "ab90dc92-e650-4786-8406-07cfd4334c50",
   "metadata": {},
   "outputs": [],
   "source": []
  }
 ],
 "metadata": {
  "kernelspec": {
   "display_name": "jup-env",
   "language": "python",
   "name": "jup-env"
  },
  "language_info": {
   "codemirror_mode": {
    "name": "ipython",
    "version": 3
   },
   "file_extension": ".py",
   "mimetype": "text/x-python",
   "name": "python",
   "nbconvert_exporter": "python",
   "pygments_lexer": "ipython3",
   "version": "3.9.13"
  }
 },
 "nbformat": 4,
 "nbformat_minor": 5
}
