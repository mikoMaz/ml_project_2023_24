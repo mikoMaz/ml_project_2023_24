{
 "cells": [
  {
   "cell_type": "markdown",
   "id": "435c89c6-0c98-4f70-89db-81d0bd0c3df7",
   "metadata": {},
   "source": [
    "# Machine learning project - Mikołaj Mazur"
   ]
  },
  {
   "cell_type": "code",
   "execution_count": 1,
   "id": "03f67835-c372-4e4c-963a-5dca9fafe130",
   "metadata": {},
   "outputs": [],
   "source": [
    "from datetime import datetime\n",
    "import pandas as pd\n",
    "from sklearn.model_selection import train_test_split\n",
    "from sklearn.preprocessing import MinMaxScaler, PolynomialFeatures\n",
    "from sklearn.linear_model import LinearRegression\n",
    "from sklearn.metrics import mean_squared_error, mean_absolute_error\n",
    "from matplotlib import pyplot as plt"
   ]
  },
  {
   "cell_type": "markdown",
   "id": "80406f85-cb6b-4618-8c57-04485e0eeb69",
   "metadata": {},
   "source": [
    "### Dataset sources"
   ]
  },
  {
   "cell_type": "raw",
   "id": "18ad8ed0-4a44-4ab4-bfe1-e2b2a3d9d5ad",
   "metadata": {},
   "source": [
    "Chicago Bike Sharing Data - 2021 - https://www.kaggle.com/datasets/manjitbaishya001/chicago-bike-sharing-data-2021\n",
    "Weather history at CHICAGO MIDWAY AIRPORT 3 SW, IL US station - https://www.ncei.noaa.gov/access/past-weather/chicago"
   ]
  },
  {
   "cell_type": "markdown",
   "id": "5b6629dd-ee78-400f-a6a8-b351646f1e9f",
   "metadata": {},
   "source": [
    "### Model purpose"
   ]
  },
  {
   "cell_type": "raw",
   "id": "b46fbe04-586b-4b07-968d-370b22ea1274",
   "metadata": {},
   "source": [
    "Predicting number of bike rents based on weather features. It's purpose to help understand human behaviour as well as demand on bikes within a typical year scenario and strategy for bike-sharing companies."
   ]
  },
  {
   "cell_type": "markdown",
   "id": "84ca9a5f-9a5f-4c0d-b413-b74ae179dfd7",
   "metadata": {},
   "source": [
    "## Data Exploration"
   ]
  },
  {
   "cell_type": "code",
   "execution_count": 2,
   "id": "29059207-eab4-4f6b-9858-d545d74b6e81",
   "metadata": {},
   "outputs": [
    {
     "name": "stdout",
     "output_type": "stream",
     "text": [
      "   Unnamed: 0           ride_id  rideable_type           started_at  \\\n",
      "0           0  E19E6F1B8D4C42ED  electric_bike  2021-01-23 16:14:19   \n",
      "1           1  DC88F20C2C55F27F  electric_bike  2021-01-27 18:43:08   \n",
      "2           2  EC45C94683FE3F27  electric_bike  2021-01-21 22:35:54   \n",
      "3           3  4FA453A75AE377DB  electric_bike  2021-01-07 13:31:13   \n",
      "4           4  BE5E8EB4E7263A0B  electric_bike  2021-01-23 02:24:02   \n",
      "\n",
      "              ended_at          start_station_name start_station_id  \\\n",
      "0  2021-01-23 16:24:44  California Ave & Cortez St            17660   \n",
      "1  2021-01-27 18:47:12  California Ave & Cortez St            17660   \n",
      "2  2021-01-21 22:37:14  California Ave & Cortez St            17660   \n",
      "3  2021-01-07 13:42:55  California Ave & Cortez St            17660   \n",
      "4  2021-01-23 02:24:45  California Ave & Cortez St            17660   \n",
      "\n",
      "  end_station_name end_station_id  start_lat  start_lng  end_lat  end_lng  \\\n",
      "0              NaN            NaN  41.900341 -87.696743    41.89   -87.72   \n",
      "1              NaN            NaN  41.900333 -87.696707    41.90   -87.69   \n",
      "2              NaN            NaN  41.900313 -87.696643    41.90   -87.70   \n",
      "3              NaN            NaN  41.900399 -87.696662    41.92   -87.69   \n",
      "4              NaN            NaN  41.900326 -87.696697    41.90   -87.70   \n",
      "\n",
      "  member_casual  \n",
      "0        member  \n",
      "1        member  \n",
      "2        member  \n",
      "3        member  \n",
      "4        casual  \n",
      "<class 'pandas.core.frame.DataFrame'>\n",
      "RangeIndex: 5595063 entries, 0 to 5595062\n",
      "Data columns (total 14 columns):\n",
      " #   Column              Dtype  \n",
      "---  ------              -----  \n",
      " 0   Unnamed: 0          int64  \n",
      " 1   ride_id             object \n",
      " 2   rideable_type       object \n",
      " 3   started_at          object \n",
      " 4   ended_at            object \n",
      " 5   start_station_name  object \n",
      " 6   start_station_id    object \n",
      " 7   end_station_name    object \n",
      " 8   end_station_id      object \n",
      " 9   start_lat           float64\n",
      " 10  start_lng           float64\n",
      " 11  end_lat             float64\n",
      " 12  end_lng             float64\n",
      " 13  member_casual       object \n",
      "dtypes: float64(4), int64(1), object(9)\n",
      "memory usage: 597.6+ MB\n",
      "None\n"
     ]
    }
   ],
   "source": [
    "# Chicago Bike Sharing Data\n",
    "\n",
    "bike_data = pd.read_csv('chicago_bike_sharing_2021.csv')\n",
    "print(bike_data.head())\n",
    "print(bike_data.info())"
   ]
  },
  {
   "cell_type": "code",
   "execution_count": 3,
   "id": "2482cfa1-b127-42bb-9fa6-fd3069b74b0c",
   "metadata": {},
   "outputs": [
    {
     "name": "stdout",
     "output_type": "stream",
     "text": [
      "         Date  TAVG (Degrees Fahrenheit)  TMAX (Degrees Fahrenheit)  \\\n",
      "0  1928-02-29                        NaN                       39.0   \n",
      "1  1928-03-01                        NaN                       36.0   \n",
      "2  1928-03-02                        NaN                       42.0   \n",
      "3  1928-03-03                        NaN                       37.0   \n",
      "4  1928-03-04                        NaN                       41.0   \n",
      "\n",
      "   TMIN (Degrees Fahrenheit)  PRCP (Inches)  SNOW (Inches)  SNWD (Inches)  \n",
      "0                       27.0            0.0            0.0            0.0  \n",
      "1                       20.0            0.0            0.0            0.0  \n",
      "2                       25.0            0.0            0.0            0.0  \n",
      "3                       15.0            0.0            0.0            0.0  \n",
      "4                       16.0            0.0            0.0            0.0  \n",
      "<class 'pandas.core.frame.DataFrame'>\n",
      "RangeIndex: 35031 entries, 0 to 35030\n",
      "Data columns (total 7 columns):\n",
      " #   Column                     Non-Null Count  Dtype  \n",
      "---  ------                     --------------  -----  \n",
      " 0   Date                       35031 non-null  object \n",
      " 1   TAVG (Degrees Fahrenheit)  0 non-null      float64\n",
      " 2   TMAX (Degrees Fahrenheit)  33610 non-null  float64\n",
      " 3   TMIN (Degrees Fahrenheit)  33600 non-null  float64\n",
      " 4   PRCP (Inches)              33609 non-null  float64\n",
      " 5   SNOW (Inches)              33502 non-null  float64\n",
      " 6   SNWD (Inches)              33491 non-null  float64\n",
      "dtypes: float64(6), object(1)\n",
      "memory usage: 1.9+ MB\n",
      "None\n"
     ]
    }
   ],
   "source": [
    "# Weather data\n",
    "\n",
    "weather_data = pd.read_csv('weather_data.csv', skiprows=1)\n",
    "print(weather_data.head())\n",
    "print(weather_data.info())"
   ]
  },
  {
   "cell_type": "markdown",
   "id": "ca0b9ac2-4aaa-4a59-9b8b-9b4c2a2103cb",
   "metadata": {},
   "source": [
    "## Preparation of data - bike dataset"
   ]
  },
  {
   "cell_type": "markdown",
   "id": "3f7a01e8-6e1a-49e2-b0dd-afcc6ab0f88c",
   "metadata": {},
   "source": [
    "### Remove irrelevant columns"
   ]
  },
  {
   "cell_type": "raw",
   "id": "160298ff-1df8-4d78-83b5-8b8fe4a8f3ab",
   "metadata": {},
   "source": [
    "Chicago Bike Sharing dataset contains bike sharing details such as type of bike, initial station, final station, coordinates and membership.\n",
    "Date is only one feature from bike_data that needs to be processed. started_at column is assumed as a default date."
   ]
  },
  {
   "cell_type": "code",
   "execution_count": 4,
   "id": "a5ca4825-ad89-47bb-9e06-6723248a7564",
   "metadata": {},
   "outputs": [
    {
     "data": {
      "text/html": [
       "<div>\n",
       "<style scoped>\n",
       "    .dataframe tbody tr th:only-of-type {\n",
       "        vertical-align: middle;\n",
       "    }\n",
       "\n",
       "    .dataframe tbody tr th {\n",
       "        vertical-align: top;\n",
       "    }\n",
       "\n",
       "    .dataframe thead th {\n",
       "        text-align: right;\n",
       "    }\n",
       "</style>\n",
       "<table border=\"1\" class=\"dataframe\">\n",
       "  <thead>\n",
       "    <tr style=\"text-align: right;\">\n",
       "      <th></th>\n",
       "      <th>started_at</th>\n",
       "    </tr>\n",
       "  </thead>\n",
       "  <tbody>\n",
       "    <tr>\n",
       "      <th>0</th>\n",
       "      <td>2021-01-23 16:14:19</td>\n",
       "    </tr>\n",
       "    <tr>\n",
       "      <th>1</th>\n",
       "      <td>2021-01-27 18:43:08</td>\n",
       "    </tr>\n",
       "    <tr>\n",
       "      <th>2</th>\n",
       "      <td>2021-01-21 22:35:54</td>\n",
       "    </tr>\n",
       "    <tr>\n",
       "      <th>3</th>\n",
       "      <td>2021-01-07 13:31:13</td>\n",
       "    </tr>\n",
       "    <tr>\n",
       "      <th>4</th>\n",
       "      <td>2021-01-23 02:24:02</td>\n",
       "    </tr>\n",
       "    <tr>\n",
       "      <th>...</th>\n",
       "      <td>...</td>\n",
       "    </tr>\n",
       "    <tr>\n",
       "      <th>5595058</th>\n",
       "      <td>2021-12-12 13:36:55</td>\n",
       "    </tr>\n",
       "    <tr>\n",
       "      <th>5595059</th>\n",
       "      <td>2021-12-06 19:37:50</td>\n",
       "    </tr>\n",
       "    <tr>\n",
       "      <th>5595060</th>\n",
       "      <td>2021-12-02 08:57:04</td>\n",
       "    </tr>\n",
       "    <tr>\n",
       "      <th>5595061</th>\n",
       "      <td>2021-12-13 09:00:26</td>\n",
       "    </tr>\n",
       "    <tr>\n",
       "      <th>5595062</th>\n",
       "      <td>2021-12-13 08:45:32</td>\n",
       "    </tr>\n",
       "  </tbody>\n",
       "</table>\n",
       "<p>5595063 rows × 1 columns</p>\n",
       "</div>"
      ],
      "text/plain": [
       "                  started_at\n",
       "0        2021-01-23 16:14:19\n",
       "1        2021-01-27 18:43:08\n",
       "2        2021-01-21 22:35:54\n",
       "3        2021-01-07 13:31:13\n",
       "4        2021-01-23 02:24:02\n",
       "...                      ...\n",
       "5595058  2021-12-12 13:36:55\n",
       "5595059  2021-12-06 19:37:50\n",
       "5595060  2021-12-02 08:57:04\n",
       "5595061  2021-12-13 09:00:26\n",
       "5595062  2021-12-13 08:45:32\n",
       "\n",
       "[5595063 rows x 1 columns]"
      ]
     },
     "execution_count": 4,
     "metadata": {},
     "output_type": "execute_result"
    }
   ],
   "source": [
    "bike_data = bike_data[['started_at']]\n",
    "bike_data"
   ]
  },
  {
   "cell_type": "code",
   "execution_count": 5,
   "id": "f56f0051-e23b-4c71-b9b1-8dc7958fd359",
   "metadata": {},
   "outputs": [],
   "source": [
    "# format date\n",
    "\n",
    "bike_data['started_at'] = bike_data['started_at'].apply(\n",
    "    lambda x: datetime.strptime(x, '%Y-%m-%d %H:%M:%S').strftime('%Y-%m-%d')\n",
    ")"
   ]
  },
  {
   "cell_type": "code",
   "execution_count": 6,
   "id": "2f495778-61fd-46e0-a85a-2aa48aa4fea7",
   "metadata": {},
   "outputs": [
    {
     "data": {
      "text/html": [
       "<div>\n",
       "<style scoped>\n",
       "    .dataframe tbody tr th:only-of-type {\n",
       "        vertical-align: middle;\n",
       "    }\n",
       "\n",
       "    .dataframe tbody tr th {\n",
       "        vertical-align: top;\n",
       "    }\n",
       "\n",
       "    .dataframe thead th {\n",
       "        text-align: right;\n",
       "    }\n",
       "</style>\n",
       "<table border=\"1\" class=\"dataframe\">\n",
       "  <thead>\n",
       "    <tr style=\"text-align: right;\">\n",
       "      <th></th>\n",
       "      <th>started_at</th>\n",
       "    </tr>\n",
       "  </thead>\n",
       "  <tbody>\n",
       "    <tr>\n",
       "      <th>0</th>\n",
       "      <td>2021-01-23</td>\n",
       "    </tr>\n",
       "    <tr>\n",
       "      <th>1</th>\n",
       "      <td>2021-01-27</td>\n",
       "    </tr>\n",
       "    <tr>\n",
       "      <th>2</th>\n",
       "      <td>2021-01-21</td>\n",
       "    </tr>\n",
       "    <tr>\n",
       "      <th>3</th>\n",
       "      <td>2021-01-07</td>\n",
       "    </tr>\n",
       "    <tr>\n",
       "      <th>4</th>\n",
       "      <td>2021-01-23</td>\n",
       "    </tr>\n",
       "    <tr>\n",
       "      <th>...</th>\n",
       "      <td>...</td>\n",
       "    </tr>\n",
       "    <tr>\n",
       "      <th>5595058</th>\n",
       "      <td>2021-12-12</td>\n",
       "    </tr>\n",
       "    <tr>\n",
       "      <th>5595059</th>\n",
       "      <td>2021-12-06</td>\n",
       "    </tr>\n",
       "    <tr>\n",
       "      <th>5595060</th>\n",
       "      <td>2021-12-02</td>\n",
       "    </tr>\n",
       "    <tr>\n",
       "      <th>5595061</th>\n",
       "      <td>2021-12-13</td>\n",
       "    </tr>\n",
       "    <tr>\n",
       "      <th>5595062</th>\n",
       "      <td>2021-12-13</td>\n",
       "    </tr>\n",
       "  </tbody>\n",
       "</table>\n",
       "<p>5595063 rows × 1 columns</p>\n",
       "</div>"
      ],
      "text/plain": [
       "         started_at\n",
       "0        2021-01-23\n",
       "1        2021-01-27\n",
       "2        2021-01-21\n",
       "3        2021-01-07\n",
       "4        2021-01-23\n",
       "...             ...\n",
       "5595058  2021-12-12\n",
       "5595059  2021-12-06\n",
       "5595060  2021-12-02\n",
       "5595061  2021-12-13\n",
       "5595062  2021-12-13\n",
       "\n",
       "[5595063 rows x 1 columns]"
      ]
     },
     "execution_count": 6,
     "metadata": {},
     "output_type": "execute_result"
    }
   ],
   "source": [
    "bike_data"
   ]
  },
  {
   "cell_type": "markdown",
   "id": "718d40d5-4408-4f93-a565-a9d132fb4e7b",
   "metadata": {},
   "source": [
    "### Group by data"
   ]
  },
  {
   "cell_type": "code",
   "execution_count": 7,
   "id": "9b33fd9d-7178-46c2-ad30-fe97cf15f1aa",
   "metadata": {},
   "outputs": [
    {
     "data": {
      "text/html": [
       "<div>\n",
       "<style scoped>\n",
       "    .dataframe tbody tr th:only-of-type {\n",
       "        vertical-align: middle;\n",
       "    }\n",
       "\n",
       "    .dataframe tbody tr th {\n",
       "        vertical-align: top;\n",
       "    }\n",
       "\n",
       "    .dataframe thead th {\n",
       "        text-align: right;\n",
       "    }\n",
       "</style>\n",
       "<table border=\"1\" class=\"dataframe\">\n",
       "  <thead>\n",
       "    <tr style=\"text-align: right;\">\n",
       "      <th></th>\n",
       "      <th>started_at</th>\n",
       "      <th>Count</th>\n",
       "    </tr>\n",
       "  </thead>\n",
       "  <tbody>\n",
       "    <tr>\n",
       "      <th>0</th>\n",
       "      <td>2021-01-01</td>\n",
       "      <td>1068</td>\n",
       "    </tr>\n",
       "    <tr>\n",
       "      <th>1</th>\n",
       "      <td>2021-01-02</td>\n",
       "      <td>2275</td>\n",
       "    </tr>\n",
       "    <tr>\n",
       "      <th>2</th>\n",
       "      <td>2021-01-03</td>\n",
       "      <td>2383</td>\n",
       "    </tr>\n",
       "    <tr>\n",
       "      <th>3</th>\n",
       "      <td>2021-01-04</td>\n",
       "      <td>3209</td>\n",
       "    </tr>\n",
       "    <tr>\n",
       "      <th>4</th>\n",
       "      <td>2021-01-05</td>\n",
       "      <td>3845</td>\n",
       "    </tr>\n",
       "    <tr>\n",
       "      <th>...</th>\n",
       "      <td>...</td>\n",
       "      <td>...</td>\n",
       "    </tr>\n",
       "    <tr>\n",
       "      <th>360</th>\n",
       "      <td>2021-12-27</td>\n",
       "      <td>4903</td>\n",
       "    </tr>\n",
       "    <tr>\n",
       "      <th>361</th>\n",
       "      <td>2021-12-28</td>\n",
       "      <td>2830</td>\n",
       "    </tr>\n",
       "    <tr>\n",
       "      <th>362</th>\n",
       "      <td>2021-12-29</td>\n",
       "      <td>5370</td>\n",
       "    </tr>\n",
       "    <tr>\n",
       "      <th>363</th>\n",
       "      <td>2021-12-30</td>\n",
       "      <td>6129</td>\n",
       "    </tr>\n",
       "    <tr>\n",
       "      <th>364</th>\n",
       "      <td>2021-12-31</td>\n",
       "      <td>6529</td>\n",
       "    </tr>\n",
       "  </tbody>\n",
       "</table>\n",
       "<p>365 rows × 2 columns</p>\n",
       "</div>"
      ],
      "text/plain": [
       "     started_at  Count\n",
       "0    2021-01-01   1068\n",
       "1    2021-01-02   2275\n",
       "2    2021-01-03   2383\n",
       "3    2021-01-04   3209\n",
       "4    2021-01-05   3845\n",
       "..          ...    ...\n",
       "360  2021-12-27   4903\n",
       "361  2021-12-28   2830\n",
       "362  2021-12-29   5370\n",
       "363  2021-12-30   6129\n",
       "364  2021-12-31   6529\n",
       "\n",
       "[365 rows x 2 columns]"
      ]
     },
     "execution_count": 7,
     "metadata": {},
     "output_type": "execute_result"
    }
   ],
   "source": [
    "bike_data_count = bike_data.groupby('started_at')['started_at'].count().reset_index(name='Count')\n",
    "bike_data_count"
   ]
  },
  {
   "cell_type": "markdown",
   "id": "968fa390-cb45-4a1f-a433-408ac11a514c",
   "metadata": {},
   "source": [
    "### NaN check"
   ]
  },
  {
   "cell_type": "code",
   "execution_count": 8,
   "id": "504d0811-1cfd-4d59-a329-90c03f7faa05",
   "metadata": {},
   "outputs": [
    {
     "data": {
      "text/plain": [
       "started_at    0\n",
       "Count         0\n",
       "dtype: int64"
      ]
     },
     "execution_count": 8,
     "metadata": {},
     "output_type": "execute_result"
    }
   ],
   "source": [
    "bike_data_count.isna().sum()"
   ]
  },
  {
   "cell_type": "markdown",
   "id": "c663ef9a-d3a7-427e-875f-8fddbfba29c7",
   "metadata": {},
   "source": [
    "### Rename column"
   ]
  },
  {
   "cell_type": "code",
   "execution_count": 9,
   "id": "9d1704ee-323a-4c25-93b6-3e049e027bc9",
   "metadata": {
    "scrolled": true
   },
   "outputs": [
    {
     "data": {
      "text/html": [
       "<div>\n",
       "<style scoped>\n",
       "    .dataframe tbody tr th:only-of-type {\n",
       "        vertical-align: middle;\n",
       "    }\n",
       "\n",
       "    .dataframe tbody tr th {\n",
       "        vertical-align: top;\n",
       "    }\n",
       "\n",
       "    .dataframe thead th {\n",
       "        text-align: right;\n",
       "    }\n",
       "</style>\n",
       "<table border=\"1\" class=\"dataframe\">\n",
       "  <thead>\n",
       "    <tr style=\"text-align: right;\">\n",
       "      <th></th>\n",
       "      <th>Date</th>\n",
       "      <th>Count</th>\n",
       "    </tr>\n",
       "  </thead>\n",
       "  <tbody>\n",
       "    <tr>\n",
       "      <th>0</th>\n",
       "      <td>2021-01-01</td>\n",
       "      <td>1068</td>\n",
       "    </tr>\n",
       "    <tr>\n",
       "      <th>1</th>\n",
       "      <td>2021-01-02</td>\n",
       "      <td>2275</td>\n",
       "    </tr>\n",
       "    <tr>\n",
       "      <th>2</th>\n",
       "      <td>2021-01-03</td>\n",
       "      <td>2383</td>\n",
       "    </tr>\n",
       "    <tr>\n",
       "      <th>3</th>\n",
       "      <td>2021-01-04</td>\n",
       "      <td>3209</td>\n",
       "    </tr>\n",
       "    <tr>\n",
       "      <th>4</th>\n",
       "      <td>2021-01-05</td>\n",
       "      <td>3845</td>\n",
       "    </tr>\n",
       "    <tr>\n",
       "      <th>...</th>\n",
       "      <td>...</td>\n",
       "      <td>...</td>\n",
       "    </tr>\n",
       "    <tr>\n",
       "      <th>360</th>\n",
       "      <td>2021-12-27</td>\n",
       "      <td>4903</td>\n",
       "    </tr>\n",
       "    <tr>\n",
       "      <th>361</th>\n",
       "      <td>2021-12-28</td>\n",
       "      <td>2830</td>\n",
       "    </tr>\n",
       "    <tr>\n",
       "      <th>362</th>\n",
       "      <td>2021-12-29</td>\n",
       "      <td>5370</td>\n",
       "    </tr>\n",
       "    <tr>\n",
       "      <th>363</th>\n",
       "      <td>2021-12-30</td>\n",
       "      <td>6129</td>\n",
       "    </tr>\n",
       "    <tr>\n",
       "      <th>364</th>\n",
       "      <td>2021-12-31</td>\n",
       "      <td>6529</td>\n",
       "    </tr>\n",
       "  </tbody>\n",
       "</table>\n",
       "<p>365 rows × 2 columns</p>\n",
       "</div>"
      ],
      "text/plain": [
       "           Date  Count\n",
       "0    2021-01-01   1068\n",
       "1    2021-01-02   2275\n",
       "2    2021-01-03   2383\n",
       "3    2021-01-04   3209\n",
       "4    2021-01-05   3845\n",
       "..          ...    ...\n",
       "360  2021-12-27   4903\n",
       "361  2021-12-28   2830\n",
       "362  2021-12-29   5370\n",
       "363  2021-12-30   6129\n",
       "364  2021-12-31   6529\n",
       "\n",
       "[365 rows x 2 columns]"
      ]
     },
     "execution_count": 9,
     "metadata": {},
     "output_type": "execute_result"
    }
   ],
   "source": [
    "bike_data_count = bike_data_count.rename(columns={'started_at': 'Date'})\n",
    "bike_data_count"
   ]
  },
  {
   "cell_type": "markdown",
   "id": "4cd9a4c1-295c-477b-b10a-eb205debd1fe",
   "metadata": {},
   "source": [
    "## Preparation of data - weather dataset"
   ]
  },
  {
   "cell_type": "markdown",
   "id": "6e68002b-6686-45e6-b403-c2f989e1f2d2",
   "metadata": {},
   "source": [
    "### Resolve differences in date range"
   ]
  },
  {
   "cell_type": "code",
   "execution_count": 10,
   "id": "7cd5abf5-3385-4a05-98eb-adce407b77fd",
   "metadata": {},
   "outputs": [
    {
     "name": "stdout",
     "output_type": "stream",
     "text": [
      "Index(['Date', 'TAVG (Degrees Fahrenheit)', 'TMAX (Degrees Fahrenheit)',\n",
      "       'TMIN (Degrees Fahrenheit)', 'PRCP (Inches)', 'SNOW (Inches)',\n",
      "       'SNWD (Inches)'],\n",
      "      dtype='object')\n"
     ]
    }
   ],
   "source": [
    "print(weather_data.columns)"
   ]
  },
  {
   "cell_type": "code",
   "execution_count": 11,
   "id": "6e3d4000-9d5b-4d7e-b151-d8eb60ae6232",
   "metadata": {},
   "outputs": [
    {
     "name": "stdout",
     "output_type": "stream",
     "text": [
      "1928-02-29\n",
      "2024-01-26\n"
     ]
    }
   ],
   "source": [
    "print(weather_data[\"Date\"].min())\n",
    "print(weather_data[\"Date\"].max())"
   ]
  },
  {
   "cell_type": "markdown",
   "id": "79e4e4b9-4e7b-463c-8c2a-7ff69f63e15f",
   "metadata": {},
   "source": [
    "### NaN check"
   ]
  },
  {
   "cell_type": "code",
   "execution_count": 12,
   "id": "cccf5a4f-7272-43e4-a386-b8b9132bdc64",
   "metadata": {
    "scrolled": true
   },
   "outputs": [
    {
     "data": {
      "text/plain": [
       "Date                             0\n",
       "TAVG (Degrees Fahrenheit)    35031\n",
       "TMAX (Degrees Fahrenheit)     1421\n",
       "TMIN (Degrees Fahrenheit)     1431\n",
       "PRCP (Inches)                 1422\n",
       "SNOW (Inches)                 1529\n",
       "SNWD (Inches)                 1540\n",
       "dtype: int64"
      ]
     },
     "execution_count": 12,
     "metadata": {},
     "output_type": "execute_result"
    }
   ],
   "source": [
    "weather_data.isna().sum()"
   ]
  },
  {
   "cell_type": "markdown",
   "id": "a71b3d4b-3d72-4d17-b065-ac208422c510",
   "metadata": {},
   "source": [
    "### Merge datasets"
   ]
  },
  {
   "cell_type": "code",
   "execution_count": 13,
   "id": "9fb7c84d-fb26-42ce-b89f-b7a4dee9f6a7",
   "metadata": {},
   "outputs": [
    {
     "name": "stdout",
     "output_type": "stream",
     "text": [
      "<class 'pandas.core.frame.DataFrame'>\n",
      "RangeIndex: 365 entries, 0 to 364\n",
      "Data columns (total 2 columns):\n",
      " #   Column  Non-Null Count  Dtype \n",
      "---  ------  --------------  ----- \n",
      " 0   Date    365 non-null    object\n",
      " 1   Count   365 non-null    int64 \n",
      "dtypes: int64(1), object(1)\n",
      "memory usage: 5.8+ KB\n",
      "None\n"
     ]
    }
   ],
   "source": [
    "print(bike_data_count.info())"
   ]
  },
  {
   "cell_type": "code",
   "execution_count": 14,
   "id": "1b2d4d29-db0b-4ee6-a604-13b56b2cd408",
   "metadata": {},
   "outputs": [
    {
     "data": {
      "text/html": [
       "<div>\n",
       "<style scoped>\n",
       "    .dataframe tbody tr th:only-of-type {\n",
       "        vertical-align: middle;\n",
       "    }\n",
       "\n",
       "    .dataframe tbody tr th {\n",
       "        vertical-align: top;\n",
       "    }\n",
       "\n",
       "    .dataframe thead th {\n",
       "        text-align: right;\n",
       "    }\n",
       "</style>\n",
       "<table border=\"1\" class=\"dataframe\">\n",
       "  <thead>\n",
       "    <tr style=\"text-align: right;\">\n",
       "      <th></th>\n",
       "      <th>Date</th>\n",
       "      <th>Count</th>\n",
       "      <th>TAVG (Degrees Fahrenheit)</th>\n",
       "      <th>TMAX (Degrees Fahrenheit)</th>\n",
       "      <th>TMIN (Degrees Fahrenheit)</th>\n",
       "      <th>PRCP (Inches)</th>\n",
       "      <th>SNOW (Inches)</th>\n",
       "      <th>SNWD (Inches)</th>\n",
       "    </tr>\n",
       "  </thead>\n",
       "  <tbody>\n",
       "    <tr>\n",
       "      <th>0</th>\n",
       "      <td>2021-01-01</td>\n",
       "      <td>1068</td>\n",
       "      <td>NaN</td>\n",
       "      <td>35.0</td>\n",
       "      <td>24.0</td>\n",
       "      <td>0.31</td>\n",
       "      <td>0.5</td>\n",
       "      <td>1.0</td>\n",
       "    </tr>\n",
       "    <tr>\n",
       "      <th>1</th>\n",
       "      <td>2021-01-02</td>\n",
       "      <td>2275</td>\n",
       "      <td>NaN</td>\n",
       "      <td>36.0</td>\n",
       "      <td>30.0</td>\n",
       "      <td>0.00</td>\n",
       "      <td>0.0</td>\n",
       "      <td>1.0</td>\n",
       "    </tr>\n",
       "    <tr>\n",
       "      <th>2</th>\n",
       "      <td>2021-01-03</td>\n",
       "      <td>2383</td>\n",
       "      <td>NaN</td>\n",
       "      <td>34.0</td>\n",
       "      <td>27.0</td>\n",
       "      <td>0.05</td>\n",
       "      <td>0.6</td>\n",
       "      <td>1.0</td>\n",
       "    </tr>\n",
       "    <tr>\n",
       "      <th>3</th>\n",
       "      <td>2021-01-04</td>\n",
       "      <td>3209</td>\n",
       "      <td>NaN</td>\n",
       "      <td>31.0</td>\n",
       "      <td>25.0</td>\n",
       "      <td>0.00</td>\n",
       "      <td>0.0</td>\n",
       "      <td>1.0</td>\n",
       "    </tr>\n",
       "    <tr>\n",
       "      <th>4</th>\n",
       "      <td>2021-01-05</td>\n",
       "      <td>3845</td>\n",
       "      <td>NaN</td>\n",
       "      <td>37.0</td>\n",
       "      <td>29.0</td>\n",
       "      <td>0.00</td>\n",
       "      <td>0.0</td>\n",
       "      <td>1.0</td>\n",
       "    </tr>\n",
       "    <tr>\n",
       "      <th>...</th>\n",
       "      <td>...</td>\n",
       "      <td>...</td>\n",
       "      <td>...</td>\n",
       "      <td>...</td>\n",
       "      <td>...</td>\n",
       "      <td>...</td>\n",
       "      <td>...</td>\n",
       "      <td>...</td>\n",
       "    </tr>\n",
       "    <tr>\n",
       "      <th>360</th>\n",
       "      <td>2021-12-27</td>\n",
       "      <td>4903</td>\n",
       "      <td>NaN</td>\n",
       "      <td>48.0</td>\n",
       "      <td>34.0</td>\n",
       "      <td>0.27</td>\n",
       "      <td>0.0</td>\n",
       "      <td>0.0</td>\n",
       "    </tr>\n",
       "    <tr>\n",
       "      <th>361</th>\n",
       "      <td>2021-12-28</td>\n",
       "      <td>2830</td>\n",
       "      <td>NaN</td>\n",
       "      <td>39.0</td>\n",
       "      <td>33.0</td>\n",
       "      <td>0.27</td>\n",
       "      <td>1.6</td>\n",
       "      <td>1.0</td>\n",
       "    </tr>\n",
       "    <tr>\n",
       "      <th>362</th>\n",
       "      <td>2021-12-29</td>\n",
       "      <td>5370</td>\n",
       "      <td>NaN</td>\n",
       "      <td>39.0</td>\n",
       "      <td>32.0</td>\n",
       "      <td>0.02</td>\n",
       "      <td>0.2</td>\n",
       "      <td>0.0</td>\n",
       "    </tr>\n",
       "    <tr>\n",
       "      <th>363</th>\n",
       "      <td>2021-12-30</td>\n",
       "      <td>6129</td>\n",
       "      <td>NaN</td>\n",
       "      <td>39.0</td>\n",
       "      <td>33.0</td>\n",
       "      <td>0.00</td>\n",
       "      <td>0.0</td>\n",
       "      <td>0.0</td>\n",
       "    </tr>\n",
       "    <tr>\n",
       "      <th>364</th>\n",
       "      <td>2021-12-31</td>\n",
       "      <td>6529</td>\n",
       "      <td>NaN</td>\n",
       "      <td>46.0</td>\n",
       "      <td>34.0</td>\n",
       "      <td>0.00</td>\n",
       "      <td>0.0</td>\n",
       "      <td>0.0</td>\n",
       "    </tr>\n",
       "  </tbody>\n",
       "</table>\n",
       "<p>365 rows × 8 columns</p>\n",
       "</div>"
      ],
      "text/plain": [
       "           Date  Count  TAVG (Degrees Fahrenheit)  TMAX (Degrees Fahrenheit)  \\\n",
       "0    2021-01-01   1068                        NaN                       35.0   \n",
       "1    2021-01-02   2275                        NaN                       36.0   \n",
       "2    2021-01-03   2383                        NaN                       34.0   \n",
       "3    2021-01-04   3209                        NaN                       31.0   \n",
       "4    2021-01-05   3845                        NaN                       37.0   \n",
       "..          ...    ...                        ...                        ...   \n",
       "360  2021-12-27   4903                        NaN                       48.0   \n",
       "361  2021-12-28   2830                        NaN                       39.0   \n",
       "362  2021-12-29   5370                        NaN                       39.0   \n",
       "363  2021-12-30   6129                        NaN                       39.0   \n",
       "364  2021-12-31   6529                        NaN                       46.0   \n",
       "\n",
       "     TMIN (Degrees Fahrenheit)  PRCP (Inches)  SNOW (Inches)  SNWD (Inches)  \n",
       "0                         24.0           0.31            0.5            1.0  \n",
       "1                         30.0           0.00            0.0            1.0  \n",
       "2                         27.0           0.05            0.6            1.0  \n",
       "3                         25.0           0.00            0.0            1.0  \n",
       "4                         29.0           0.00            0.0            1.0  \n",
       "..                         ...            ...            ...            ...  \n",
       "360                       34.0           0.27            0.0            0.0  \n",
       "361                       33.0           0.27            1.6            1.0  \n",
       "362                       32.0           0.02            0.2            0.0  \n",
       "363                       33.0           0.00            0.0            0.0  \n",
       "364                       34.0           0.00            0.0            0.0  \n",
       "\n",
       "[365 rows x 8 columns]"
      ]
     },
     "execution_count": 14,
     "metadata": {},
     "output_type": "execute_result"
    }
   ],
   "source": [
    "merged_df = pd.merge(bike_data_count, weather_data, on=\"Date\", how = \"inner\")\n",
    "merged_df"
   ]
  },
  {
   "cell_type": "markdown",
   "id": "b6fb2863-7149-46c6-98f1-e05b45c0a16b",
   "metadata": {},
   "source": [
    "### NaN check"
   ]
  },
  {
   "cell_type": "code",
   "execution_count": 15,
   "id": "fee3e7b7-d41d-4ac2-ad02-9b9584b15dc2",
   "metadata": {},
   "outputs": [
    {
     "data": {
      "text/plain": [
       "Date                           0\n",
       "Count                          0\n",
       "TAVG (Degrees Fahrenheit)    365\n",
       "TMAX (Degrees Fahrenheit)      0\n",
       "TMIN (Degrees Fahrenheit)      0\n",
       "PRCP (Inches)                  0\n",
       "SNOW (Inches)                  0\n",
       "SNWD (Inches)                  1\n",
       "dtype: int64"
      ]
     },
     "execution_count": 15,
     "metadata": {},
     "output_type": "execute_result"
    }
   ],
   "source": [
    "merged_df.isna().sum()"
   ]
  },
  {
   "cell_type": "code",
   "execution_count": 16,
   "id": "4329420d-f7e5-434a-86f9-d0002188ef62",
   "metadata": {},
   "outputs": [],
   "source": [
    "merged_df = merged_df.drop(columns='TAVG (Degrees Fahrenheit)')"
   ]
  },
  {
   "cell_type": "code",
   "execution_count": 17,
   "id": "c0dca70c-aebb-40fc-bc74-312892c2b6a9",
   "metadata": {},
   "outputs": [
    {
     "data": {
      "text/plain": [
       "Date                         0\n",
       "Count                        0\n",
       "TMAX (Degrees Fahrenheit)    0\n",
       "TMIN (Degrees Fahrenheit)    0\n",
       "PRCP (Inches)                0\n",
       "SNOW (Inches)                0\n",
       "SNWD (Inches)                1\n",
       "dtype: int64"
      ]
     },
     "execution_count": 17,
     "metadata": {},
     "output_type": "execute_result"
    }
   ],
   "source": [
    "merged_df.isna().sum()"
   ]
  },
  {
   "cell_type": "code",
   "execution_count": 18,
   "id": "ba376531-525a-41a4-b2eb-e06afa67d769",
   "metadata": {},
   "outputs": [
    {
     "data": {
      "text/html": [
       "<div>\n",
       "<style scoped>\n",
       "    .dataframe tbody tr th:only-of-type {\n",
       "        vertical-align: middle;\n",
       "    }\n",
       "\n",
       "    .dataframe tbody tr th {\n",
       "        vertical-align: top;\n",
       "    }\n",
       "\n",
       "    .dataframe thead th {\n",
       "        text-align: right;\n",
       "    }\n",
       "</style>\n",
       "<table border=\"1\" class=\"dataframe\">\n",
       "  <thead>\n",
       "    <tr style=\"text-align: right;\">\n",
       "      <th></th>\n",
       "      <th>Count</th>\n",
       "      <th>TMAX (Degrees Fahrenheit)</th>\n",
       "      <th>TMIN (Degrees Fahrenheit)</th>\n",
       "      <th>PRCP (Inches)</th>\n",
       "      <th>SNOW (Inches)</th>\n",
       "      <th>SNWD (Inches)</th>\n",
       "    </tr>\n",
       "  </thead>\n",
       "  <tbody>\n",
       "    <tr>\n",
       "      <th>0</th>\n",
       "      <td>1068</td>\n",
       "      <td>35.0</td>\n",
       "      <td>24.0</td>\n",
       "      <td>0.31</td>\n",
       "      <td>0.5</td>\n",
       "      <td>1.0</td>\n",
       "    </tr>\n",
       "    <tr>\n",
       "      <th>1</th>\n",
       "      <td>2275</td>\n",
       "      <td>36.0</td>\n",
       "      <td>30.0</td>\n",
       "      <td>0.00</td>\n",
       "      <td>0.0</td>\n",
       "      <td>1.0</td>\n",
       "    </tr>\n",
       "    <tr>\n",
       "      <th>2</th>\n",
       "      <td>2383</td>\n",
       "      <td>34.0</td>\n",
       "      <td>27.0</td>\n",
       "      <td>0.05</td>\n",
       "      <td>0.6</td>\n",
       "      <td>1.0</td>\n",
       "    </tr>\n",
       "    <tr>\n",
       "      <th>3</th>\n",
       "      <td>3209</td>\n",
       "      <td>31.0</td>\n",
       "      <td>25.0</td>\n",
       "      <td>0.00</td>\n",
       "      <td>0.0</td>\n",
       "      <td>1.0</td>\n",
       "    </tr>\n",
       "    <tr>\n",
       "      <th>4</th>\n",
       "      <td>3845</td>\n",
       "      <td>37.0</td>\n",
       "      <td>29.0</td>\n",
       "      <td>0.00</td>\n",
       "      <td>0.0</td>\n",
       "      <td>1.0</td>\n",
       "    </tr>\n",
       "    <tr>\n",
       "      <th>...</th>\n",
       "      <td>...</td>\n",
       "      <td>...</td>\n",
       "      <td>...</td>\n",
       "      <td>...</td>\n",
       "      <td>...</td>\n",
       "      <td>...</td>\n",
       "    </tr>\n",
       "    <tr>\n",
       "      <th>360</th>\n",
       "      <td>4903</td>\n",
       "      <td>48.0</td>\n",
       "      <td>34.0</td>\n",
       "      <td>0.27</td>\n",
       "      <td>0.0</td>\n",
       "      <td>0.0</td>\n",
       "    </tr>\n",
       "    <tr>\n",
       "      <th>361</th>\n",
       "      <td>2830</td>\n",
       "      <td>39.0</td>\n",
       "      <td>33.0</td>\n",
       "      <td>0.27</td>\n",
       "      <td>1.6</td>\n",
       "      <td>1.0</td>\n",
       "    </tr>\n",
       "    <tr>\n",
       "      <th>362</th>\n",
       "      <td>5370</td>\n",
       "      <td>39.0</td>\n",
       "      <td>32.0</td>\n",
       "      <td>0.02</td>\n",
       "      <td>0.2</td>\n",
       "      <td>0.0</td>\n",
       "    </tr>\n",
       "    <tr>\n",
       "      <th>363</th>\n",
       "      <td>6129</td>\n",
       "      <td>39.0</td>\n",
       "      <td>33.0</td>\n",
       "      <td>0.00</td>\n",
       "      <td>0.0</td>\n",
       "      <td>0.0</td>\n",
       "    </tr>\n",
       "    <tr>\n",
       "      <th>364</th>\n",
       "      <td>6529</td>\n",
       "      <td>46.0</td>\n",
       "      <td>34.0</td>\n",
       "      <td>0.00</td>\n",
       "      <td>0.0</td>\n",
       "      <td>0.0</td>\n",
       "    </tr>\n",
       "  </tbody>\n",
       "</table>\n",
       "<p>364 rows × 6 columns</p>\n",
       "</div>"
      ],
      "text/plain": [
       "     Count  TMAX (Degrees Fahrenheit)  TMIN (Degrees Fahrenheit)  \\\n",
       "0     1068                       35.0                       24.0   \n",
       "1     2275                       36.0                       30.0   \n",
       "2     2383                       34.0                       27.0   \n",
       "3     3209                       31.0                       25.0   \n",
       "4     3845                       37.0                       29.0   \n",
       "..     ...                        ...                        ...   \n",
       "360   4903                       48.0                       34.0   \n",
       "361   2830                       39.0                       33.0   \n",
       "362   5370                       39.0                       32.0   \n",
       "363   6129                       39.0                       33.0   \n",
       "364   6529                       46.0                       34.0   \n",
       "\n",
       "     PRCP (Inches)  SNOW (Inches)  SNWD (Inches)  \n",
       "0             0.31            0.5            1.0  \n",
       "1             0.00            0.0            1.0  \n",
       "2             0.05            0.6            1.0  \n",
       "3             0.00            0.0            1.0  \n",
       "4             0.00            0.0            1.0  \n",
       "..             ...            ...            ...  \n",
       "360           0.27            0.0            0.0  \n",
       "361           0.27            1.6            1.0  \n",
       "362           0.02            0.2            0.0  \n",
       "363           0.00            0.0            0.0  \n",
       "364           0.00            0.0            0.0  \n",
       "\n",
       "[364 rows x 6 columns]"
      ]
     },
     "execution_count": 18,
     "metadata": {},
     "output_type": "execute_result"
    }
   ],
   "source": [
    "merged_df = merged_df.dropna()\n",
    "merged_df = merged_df.drop(columns='Date')\n",
    "merged_df"
   ]
  },
  {
   "cell_type": "markdown",
   "id": "a70bce56-4254-4b7c-b534-93524afdc728",
   "metadata": {},
   "source": [
    "### Feature selection"
   ]
  },
  {
   "cell_type": "code",
   "execution_count": 19,
   "id": "f62651a5-4a08-473d-bec3-03e0aea1ed8e",
   "metadata": {},
   "outputs": [],
   "source": [
    "X = merged_df.drop(columns='Count')\n",
    "y = merged_df['Count']\n",
    "\n",
    "X_train, X_test, y_train, y_test = train_test_split(X, y, test_size = 0.25)"
   ]
  },
  {
   "cell_type": "markdown",
   "id": "e3126ecd-2a5b-4d36-b998-0825d3669f09",
   "metadata": {},
   "source": [
    "### Normalization and standardization"
   ]
  },
  {
   "cell_type": "code",
   "execution_count": 20,
   "id": "57271236-6a57-49b7-a0e5-84e119e9ed80",
   "metadata": {},
   "outputs": [],
   "source": [
    "scaler = MinMaxScaler()\n",
    "\n",
    "X_train_normalized = scaler.fit_transform(X_train)\n",
    "X_test_normalized = scaler.transform(X_test)"
   ]
  },
  {
   "cell_type": "markdown",
   "id": "dd337d9b-7a1f-4d1f-a81d-3bd5ad114440",
   "metadata": {},
   "source": [
    "## Constructing regression models"
   ]
  },
  {
   "cell_type": "markdown",
   "id": "0588ca45-e1a8-47e8-bc66-504255700269",
   "metadata": {},
   "source": [
    "### Model 1 - linear regression"
   ]
  },
  {
   "cell_type": "code",
   "execution_count": 21,
   "id": "14c53b3a-bac7-489a-900f-eddd2b32ff37",
   "metadata": {},
   "outputs": [
    {
     "name": "stdout",
     "output_type": "stream",
     "text": [
      "Mean Squared Error: 21430305.031865668\n",
      "mean_absolute_error : 3519.663182930713\n"
     ]
    },
    {
     "data": {
      "image/png": "[encoded data removed]",
      "text/plain": [
       "<Figure size 640x480 with 1 Axes>"
      ]
     },
     "metadata": {},
     "output_type": "display_data"
    }
   ],
   "source": [
    "model = LinearRegression().fit(X_train_normalized, y_train)\n",
    "y_pred = model.predict(X_test_normalized)\n",
    "\n",
    "mse = mean_squared_error(y_test, y_pred)\n",
    "print(f\"Mean Squared Error: {mse}\")\n",
    "print('mean_absolute_error :', mean_absolute_error(y_test, y_pred))\n",
    "\n",
    "plt.scatter(y_test, y_pred)\n",
    "plt.xlabel(\"Actual Values\")\n",
    "plt.ylabel(\"Predicted Values\")\n",
    "plt.title(\"Actual vs. Predicted Values\")\n",
    "plt.show()"
   ]
  },
  {
   "cell_type": "markdown",
   "id": "e3ba62ba-3d8a-418f-8596-b949076a21c9",
   "metadata": {},
   "source": [
    "### Model 2 - polynomial regression"
   ]
  },
  {
   "cell_type": "code",
   "execution_count": 22,
   "id": "e66013d1-0100-44d2-ba09-e332eedf3899",
   "metadata": {},
   "outputs": [
    {
     "name": "stdout",
     "output_type": "stream",
     "text": [
      "Polynomial Regression - Mean Squared Error: 30161846.60757375\n"
     ]
    },
    {
     "data": {
      "image/png": "[encoded data removed]",
      "text/plain": [
       "<Figure size 640x480 with 1 Axes>"
      ]
     },
     "metadata": {},
     "output_type": "display_data"
    }
   ],
   "source": [
    "degree = 3\n",
    "poly_features = PolynomialFeatures(degree=degree, include_bias=False)\n",
    "X_train_poly = poly_features.fit_transform(X_train_normalized)\n",
    "X_test_poly = poly_features.transform(X_test_normalized)\n",
    "\n",
    "poly_reg_model = LinearRegression()\n",
    "poly_reg_model.fit(X_train_poly, y_train)\n",
    "\n",
    "y_pred_poly = poly_reg_model.predict(X_test_poly)\n",
    "\n",
    "mse_poly = mean_squared_error(y_test, y_pred_poly)\n",
    "print(f\"Polynomial Regression - Mean Squared Error: {mse_poly}\")\n",
    "\n",
    "sorted_indices = X_test_normalized[:, 0].argsort()\n",
    "X_test_sorted = X_test_normalized[sorted_indices]\n",
    "y_test_sorted = y_test.iloc[sorted_indices]\n",
    "\n",
    "plt.scatter(X_test_normalized[:, 0], y_test, label='Actual Data')\n",
    "plt.scatter(X_test_sorted[:, 0], y_pred_poly[sorted_indices], color='red', label=f'Polynomial Regression (Degree {degree}) Predictions')\n",
    "plt.xlabel(\"X\")\n",
    "plt.ylabel(\"y\")\n",
    "plt.title(\"Polynomial Regression\")\n",
    "plt.legend()\n",
    "plt.show()"
   ]
  },
  {
   "cell_type": "code",
   "execution_count": null,
   "id": "29592f2a-61f0-4f6b-8bfe-27a0948cce09",
   "metadata": {},
   "outputs": [],
   "source": []
  }
 ],
 "metadata": {
  "kernelspec": {
   "display_name": "jup-env",
   "language": "python",
   "name": "jup-env"
  },
  "language_info": {
   "codemirror_mode": {
    "name": "ipython",
    "version": 3
   },
   "file_extension": ".py",
   "mimetype": "text/x-python",
   "name": "python",
   "nbconvert_exporter": "python",
   "pygments_lexer": "ipython3",
   "version": "3.9.13"
  }
 },
 "nbformat": 4,
 "nbformat_minor": 5
}
